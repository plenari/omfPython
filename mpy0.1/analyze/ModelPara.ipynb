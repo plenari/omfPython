{
 "cells": [
  {
   "cell_type": "code",
   "execution_count": 1,
   "metadata": {},
   "outputs": [],
   "source": [
    "import re"
   ]
  },
  {
   "cell_type": "code",
   "execution_count": 2,
   "metadata": {},
   "outputs": [],
   "source": [
    "keywords = [\"Title:\",\"meshtype:\", \"meshunit:\", 'columns',\n",
    "            \"xbase:\", \"ybase:\", \"zbase:\",\n",
    "            \"xstepsize:\", \"ystepsize:\", \"zstepsize:\",  \n",
    "            \"xnodes:\", \"ynodes:\",\"znodes:\",'ValueRangeMaxMag:',\n",
    "            \"xmin:\", \"ymin:\", \"zmin:\", \"xmax:\", \"ymax:\", \"zmax:\"]\n"
   ]
  },
  {
   "cell_type": "code",
   "execution_count": 99,
   "metadata": {},
   "outputs": [],
   "source": [
    "test=r'C:\\Users\\omf\\Desktop\\mpy_new\\test\\m000477.ovf'\n",
    "txt=r'C:\\Users\\omf\\Desktop\\mpy_new\\test\\m000001.ovf.txt'"
   ]
  },
  {
   "cell_type": "code",
   "execution_count": 154,
   "metadata": {},
   "outputs": [],
   "source": [
    "def comment(fname):\n",
    "    '''\n",
    "    读取文件fname的注释信息\n",
    "    '''\n",
    "    s=''\n",
    "    with open(fname, \"r\") as f:\n",
    "        while True:\n",
    "            line=f.readline()\n",
    "            if line[0] == \"#\":\n",
    "                s=s+line      \n",
    "            \n",
    "            elif line[0] != \"#\":\n",
    "                columns=len(line.strip().split())\n",
    "                break\n",
    "    return s,columns"
   ]
  },
  {
   "cell_type": "code",
   "execution_count": 155,
   "metadata": {},
   "outputs": [],
   "source": [
    "s=comment(txt)"
   ]
  },
  {
   "cell_type": "code",
   "execution_count": 156,
   "metadata": {},
   "outputs": [
    {
     "data": {
      "text/plain": [
       "('# OOMMF: irregular mesh v1.0\\n# Segment count: 1\\n# Begin: Segment\\n# Begin: Header\\n# Title: m\\n# Desc: Time (s) :  0\\n# meshtype: irregular\\n# meshunit: m\\n# pointcount: 400000\\n# xstepsize: 2.0000000000000001e-09\\n# ystepsize: 2.0000000000000001e-09\\n# zstepsize: 2.0000000000000001e-09\\n# xmin: 0\\n# ymin: 0\\n# zmin: 0\\n# xmax: 4.0000000000000003e-07\\n# ymax: 4.0000000000000003e-07\\n# zmax: 2e-08\\n# valueunit: \\n# valuemultiplier: 1\\n# ValueRangeMinMag: 1e-08\\n# ValueRangeMaxMag: 1\\n# End: Header\\n# Begin: Data Text\\n',\n",
       " 6)"
      ]
     },
     "execution_count": 156,
     "metadata": {},
     "output_type": "execute_result"
    }
   ],
   "source": [
    "s"
   ]
  },
  {
   "cell_type": "code",
   "execution_count": 147,
   "metadata": {
    "scrolled": true
   },
   "outputs": [
    {
     "data": {
      "text/plain": [
       "{'Title:': 'm',\n",
       " 'ValueRangeMaxMag:': '1',\n",
       " 'meshtype:': 'irregular',\n",
       " 'meshunit:': 'm',\n",
       " 'xbase:': 1e-09,\n",
       " 'xmax:': '4.0000000000000003e-07',\n",
       " 'xmin:': '0',\n",
       " 'xnodes:': 200,\n",
       " 'xstepsize:': '2.0000000000000001e-09',\n",
       " 'ybase:': 1e-09,\n",
       " 'ymax:': '4.0000000000000003e-07',\n",
       " 'ymin:': '0',\n",
       " 'ynodes:': 200,\n",
       " 'ystepsize:': '2.0000000000000001e-09',\n",
       " 'zbase:': 1e-09,\n",
       " 'zmax:': '2e-08',\n",
       " 'zmin:': '0',\n",
       " 'znodes:': 10,\n",
       " 'zstepsize:': '2.0000000000000001e-09'}"
      ]
     },
     "execution_count": 147,
     "metadata": {},
     "output_type": "execute_result"
    }
   ],
   "source": [
    "\n",
    "\n",
    "def parse(strs):\n",
    "    dic={}\n",
    "    for key in keywords:\n",
    "        \n",
    "        z=re.findall('{}\\s(.*)'.format(key),s)\n",
    "        if len(z)>0:\n",
    "            dic[key]=z[0].strip()\n",
    "    \n",
    "    if 'znodes:' in dic.keys()  :\n",
    "        return dic\n",
    "    # 如果读取的是txt导致信息不全。\n",
    "    else:\n",
    "        key1=['xbase:', 'ybase:', 'zbase:']\n",
    "        key2=[ 'xnodes:', 'ynodes:', 'znodes:']\n",
    "        #计算base，\n",
    "        for i in key1:\n",
    "            dic[i]=(float(dic[i[0]+'min:'])+float(dic[i[0]+'stepsize:']))/2\n",
    "        #计算节点数\n",
    "        for i in key2:\n",
    "            dic[i]=int(float(dic[i[0]+'max:'])/float(dic[i[0]+'stepsize:']))\n",
    "            \n",
    "        return dic\n",
    "        \n",
    "\n",
    "parse(s)"
   ]
  },
  {
   "cell_type": "code",
   "execution_count": 139,
   "metadata": {},
   "outputs": [],
   "source": [
    "dic=parse(s)"
   ]
  }
 ],
 "metadata": {
  "kernelspec": {
   "display_name": "Python 3",
   "language": "python",
   "name": "python3"
  },
  "language_info": {
   "codemirror_mode": {
    "name": "ipython",
    "version": 3
   },
   "file_extension": ".py",
   "mimetype": "text/x-python",
   "name": "python",
   "nbconvert_exporter": "python",
   "pygments_lexer": "ipython3",
   "version": "3.6.4"
  }
 },
 "nbformat": 4,
 "nbformat_minor": 2
}
