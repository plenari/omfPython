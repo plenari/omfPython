{
 "cells": [
  {
   "cell_type": "code",
   "execution_count": 6,
   "metadata": {},
   "outputs": [],
   "source": [
    "import sys\n",
    "if '..' not in sys.path:\n",
    "    sys.path.append('..')\n",
    "import pandas as pd\n",
    "import numpy as np\n",
    "import math\n",
    "import os\n",
    "from sklearn.cluster import DBSCAN\n",
    "from analyze import readtext,nanotube,fit\n",
    "from tool.selectSuffix import selectSuffix\n"
   ]
  },
  {
   "cell_type": "code",
   "execution_count": 7,
   "metadata": {
    "scrolled": true
   },
   "outputs": [
    {
     "name": "stdout",
     "output_type": "stream",
     "text": [
      "index:m000480.ovf, \tQ:-9.661693917963406,\t skyrNum:10\n",
      "index:m000481.ovf, \tQ:-9.65007987809393,\t skyrNum:10\n",
      "m000481.ovf 2.5442953711095827e-10\n",
      "m000481.ovf 0.0\n",
      "m000481.ovf 0.0\n",
      "m000481.ovf 0.0\n",
      "m000481.ovf 0.0\n",
      "m000481.ovf 0.0\n",
      "m000481.ovf 0.0\n",
      "m000481.ovf 0.0\n",
      "m000481.ovf 0.0\n",
      "m000481.ovf 0.0\n",
      "index:m000482.ovf, \tQ:-9.638649948658294,\t skyrNum:10\n",
      "m000482.ovf 2.472132140320829e-10\n",
      "m000482.ovf 0.0\n",
      "m000482.ovf 0.0\n",
      "m000482.ovf 0.0\n",
      "m000482.ovf 0.0\n",
      "m000482.ovf 0.0\n",
      "m000482.ovf 0.0\n",
      "m000482.ovf 0.0\n",
      "m000482.ovf 0.0\n",
      "m000482.ovf 0.0\n",
      "index:m000483.ovf, \tQ:-9.627410620995905,\t skyrNum:10\n",
      "m000483.ovf 2.3449298250204596e-10\n",
      "m000483.ovf 0.0\n",
      "m000483.ovf 0.0\n",
      "m000483.ovf 0.0\n",
      "m000483.ovf 0.0\n",
      "m000483.ovf 0.0\n",
      "m000483.ovf 0.0\n",
      "m000483.ovf 0.0\n",
      "m000483.ovf 0.0\n",
      "m000483.ovf 0.0\n",
      "index:m000484.ovf, \tQ:-9.616358215268521,\t skyrNum:10\n",
      "m000484.ovf 2.2199272515628318e-10\n",
      "m000484.ovf 0.0\n",
      "m000484.ovf 0.0\n",
      "m000484.ovf 0.0\n",
      "m000484.ovf 0.0\n",
      "m000484.ovf 0.0\n",
      "m000484.ovf 0.0\n",
      "m000484.ovf 0.0\n",
      "m000484.ovf 0.0\n",
      "m000484.ovf 0.0\n"
     ]
    }
   ],
   "source": [
    "    fdir=r'K:\\模拟结果\\nanotube的模拟结果\\nanotube-Hz-R50-r40.out'\n",
    "    fnames=selectSuffix(fdir,'.ovf')[1][480:485]\n",
    "    n=nanotube.Nanotube(os.path.join(fdir,fnames[0]))\n",
    "    f=fit.Fit(maxSkyr=10)\n",
    "    for i in fnames:\n",
    "        n.loadData(os.path.join(fdir,i))\n",
    "        csl=n.reshape3D().circleSlicing(rclip=[49e-9,50e-9])\n",
    "        x,y=n.xyz2xy(csl[:3])\n",
    "        xydensity,Q = n.calQN([x,y,csl[3],csl[4],csl[5]])\n",
    "        m=csl[5]\n",
    "        \n",
    "\n",
    "    \n",
    "        f.fit([x,y,m],Q,index=i)\n",
    "        \n",
    "    f.DF.to_excel('a.xlsx')\n"
   ]
  },
  {
   "cell_type": "code",
   "execution_count": 40,
   "metadata": {},
   "outputs": [],
   "source": [
    "a=pd.read_excel('a.xlsx')"
   ]
  },
  {
   "cell_type": "code",
   "execution_count": 41,
   "metadata": {},
   "outputs": [
    {
     "data": {
      "text/html": [
       "<div>\n",
       "<style scoped>\n",
       "    .dataframe tbody tr th:only-of-type {\n",
       "        vertical-align: middle;\n",
       "    }\n",
       "\n",
       "    .dataframe tbody tr th {\n",
       "        vertical-align: top;\n",
       "    }\n",
       "\n",
       "    .dataframe thead th {\n",
       "        text-align: right;\n",
       "    }\n",
       "</style>\n",
       "<table border=\"1\" class=\"dataframe\">\n",
       "  <thead>\n",
       "    <tr style=\"text-align: right;\">\n",
       "      <th></th>\n",
       "      <th>circleD0</th>\n",
       "      <th>circleX0</th>\n",
       "      <th>circleY0</th>\n",
       "      <th>ellipseA0</th>\n",
       "      <th>ellipseB0</th>\n",
       "      <th>ellipseX0</th>\n",
       "      <th>ellipseY0</th>\n",
       "      <th>ellipseQ0</th>\n",
       "      <th>circleD1</th>\n",
       "      <th>circleX1</th>\n",
       "      <th>...</th>\n",
       "      <th>ellipseY8</th>\n",
       "      <th>ellipseQ8</th>\n",
       "      <th>circleD9</th>\n",
       "      <th>circleX9</th>\n",
       "      <th>circleY9</th>\n",
       "      <th>ellipseA9</th>\n",
       "      <th>ellipseB9</th>\n",
       "      <th>ellipseX9</th>\n",
       "      <th>ellipseY9</th>\n",
       "      <th>ellipseQ9</th>\n",
       "    </tr>\n",
       "  </thead>\n",
       "  <tbody>\n",
       "    <tr>\n",
       "      <th>m000480.ovf</th>\n",
       "      <td>3.411740e-08</td>\n",
       "      <td>2.715084e-07</td>\n",
       "      <td>7.698823e-08</td>\n",
       "      <td>0</td>\n",
       "      <td>0</td>\n",
       "      <td>0</td>\n",
       "      <td>0</td>\n",
       "      <td>0</td>\n",
       "      <td>3.429990e-08</td>\n",
       "      <td>3.430561e-07</td>\n",
       "      <td>...</td>\n",
       "      <td>0</td>\n",
       "      <td>0</td>\n",
       "      <td>3.429990e-08</td>\n",
       "      <td>5.694388e-08</td>\n",
       "      <td>2.369542e-07</td>\n",
       "      <td>0</td>\n",
       "      <td>0</td>\n",
       "      <td>0</td>\n",
       "      <td>0</td>\n",
       "      <td>0</td>\n",
       "    </tr>\n",
       "    <tr>\n",
       "      <th>m000481.ovf</th>\n",
       "      <td>3.354631e-08</td>\n",
       "      <td>2.714094e-07</td>\n",
       "      <td>7.717471e-08</td>\n",
       "      <td>0</td>\n",
       "      <td>0</td>\n",
       "      <td>0</td>\n",
       "      <td>0</td>\n",
       "      <td>0</td>\n",
       "      <td>3.378589e-08</td>\n",
       "      <td>3.428496e-07</td>\n",
       "      <td>...</td>\n",
       "      <td>0</td>\n",
       "      <td>0</td>\n",
       "      <td>3.378590e-08</td>\n",
       "      <td>5.715037e-08</td>\n",
       "      <td>2.368056e-07</td>\n",
       "      <td>0</td>\n",
       "      <td>0</td>\n",
       "      <td>0</td>\n",
       "      <td>0</td>\n",
       "      <td>0</td>\n",
       "    </tr>\n",
       "    <tr>\n",
       "      <th>m000482.ovf</th>\n",
       "      <td>3.306087e-08</td>\n",
       "      <td>2.713033e-07</td>\n",
       "      <td>7.718050e-08</td>\n",
       "      <td>0</td>\n",
       "      <td>0</td>\n",
       "      <td>0</td>\n",
       "      <td>0</td>\n",
       "      <td>0</td>\n",
       "      <td>3.327127e-08</td>\n",
       "      <td>3.426528e-07</td>\n",
       "      <td>...</td>\n",
       "      <td>0</td>\n",
       "      <td>0</td>\n",
       "      <td>3.327127e-08</td>\n",
       "      <td>5.734716e-08</td>\n",
       "      <td>2.366559e-07</td>\n",
       "      <td>0</td>\n",
       "      <td>0</td>\n",
       "      <td>0</td>\n",
       "      <td>0</td>\n",
       "      <td>0</td>\n",
       "    </tr>\n",
       "    <tr>\n",
       "      <th>m000483.ovf</th>\n",
       "      <td>3.257563e-08</td>\n",
       "      <td>2.712040e-07</td>\n",
       "      <td>7.719578e-08</td>\n",
       "      <td>0</td>\n",
       "      <td>0</td>\n",
       "      <td>0</td>\n",
       "      <td>0</td>\n",
       "      <td>0</td>\n",
       "      <td>3.276043e-08</td>\n",
       "      <td>3.424688e-07</td>\n",
       "      <td>...</td>\n",
       "      <td>0</td>\n",
       "      <td>0</td>\n",
       "      <td>3.276043e-08</td>\n",
       "      <td>5.753119e-08</td>\n",
       "      <td>2.365106e-07</td>\n",
       "      <td>0</td>\n",
       "      <td>0</td>\n",
       "      <td>0</td>\n",
       "      <td>0</td>\n",
       "      <td>0</td>\n",
       "    </tr>\n",
       "    <tr>\n",
       "      <th>m000484.ovf</th>\n",
       "      <td>3.208762e-08</td>\n",
       "      <td>2.711056e-07</td>\n",
       "      <td>7.719740e-08</td>\n",
       "      <td>0</td>\n",
       "      <td>0</td>\n",
       "      <td>0</td>\n",
       "      <td>0</td>\n",
       "      <td>0</td>\n",
       "      <td>3.225679e-08</td>\n",
       "      <td>3.422935e-07</td>\n",
       "      <td>...</td>\n",
       "      <td>0</td>\n",
       "      <td>0</td>\n",
       "      <td>3.225679e-08</td>\n",
       "      <td>5.770655e-08</td>\n",
       "      <td>2.363745e-07</td>\n",
       "      <td>0</td>\n",
       "      <td>0</td>\n",
       "      <td>0</td>\n",
       "      <td>0</td>\n",
       "      <td>0</td>\n",
       "    </tr>\n",
       "  </tbody>\n",
       "</table>\n",
       "<p>5 rows × 80 columns</p>\n",
       "</div>"
      ],
      "text/plain": [
       "                 circleD0      circleX0      circleY0  ellipseA0  ellipseB0  \\\n",
       "m000480.ovf  3.411740e-08  2.715084e-07  7.698823e-08          0          0   \n",
       "m000481.ovf  3.354631e-08  2.714094e-07  7.717471e-08          0          0   \n",
       "m000482.ovf  3.306087e-08  2.713033e-07  7.718050e-08          0          0   \n",
       "m000483.ovf  3.257563e-08  2.712040e-07  7.719578e-08          0          0   \n",
       "m000484.ovf  3.208762e-08  2.711056e-07  7.719740e-08          0          0   \n",
       "\n",
       "             ellipseX0  ellipseY0  ellipseQ0      circleD1      circleX1  \\\n",
       "m000480.ovf          0          0          0  3.429990e-08  3.430561e-07   \n",
       "m000481.ovf          0          0          0  3.378589e-08  3.428496e-07   \n",
       "m000482.ovf          0          0          0  3.327127e-08  3.426528e-07   \n",
       "m000483.ovf          0          0          0  3.276043e-08  3.424688e-07   \n",
       "m000484.ovf          0          0          0  3.225679e-08  3.422935e-07   \n",
       "\n",
       "               ...      ellipseY8  ellipseQ8      circleD9      circleX9  \\\n",
       "m000480.ovf    ...              0          0  3.429990e-08  5.694388e-08   \n",
       "m000481.ovf    ...              0          0  3.378590e-08  5.715037e-08   \n",
       "m000482.ovf    ...              0          0  3.327127e-08  5.734716e-08   \n",
       "m000483.ovf    ...              0          0  3.276043e-08  5.753119e-08   \n",
       "m000484.ovf    ...              0          0  3.225679e-08  5.770655e-08   \n",
       "\n",
       "                 circleY9  ellipseA9  ellipseB9  ellipseX9  ellipseY9  \\\n",
       "m000480.ovf  2.369542e-07          0          0          0          0   \n",
       "m000481.ovf  2.368056e-07          0          0          0          0   \n",
       "m000482.ovf  2.366559e-07          0          0          0          0   \n",
       "m000483.ovf  2.365106e-07          0          0          0          0   \n",
       "m000484.ovf  2.363745e-07          0          0          0          0   \n",
       "\n",
       "             ellipseQ9  \n",
       "m000480.ovf          0  \n",
       "m000481.ovf          0  \n",
       "m000482.ovf          0  \n",
       "m000483.ovf          0  \n",
       "m000484.ovf          0  \n",
       "\n",
       "[5 rows x 80 columns]"
      ]
     },
     "execution_count": 41,
     "metadata": {},
     "output_type": "execute_result"
    }
   ],
   "source": [
    "a"
   ]
  },
  {
   "cell_type": "code",
   "execution_count": 46,
   "metadata": {},
   "outputs": [
    {
     "data": {
      "text/plain": [
       "[[1, 2],\n",
       " [8, 9],\n",
       " [15, 16],\n",
       " [22, 23],\n",
       " [29, 30],\n",
       " [36, 37],\n",
       " [43, 44],\n",
       " [50, 51],\n",
       " [57, 58],\n",
       " [64, 65],\n",
       " [71, 72],\n",
       " [78, 79]]"
      ]
     },
     "execution_count": 46,
     "metadata": {},
     "output_type": "execute_result"
    }
   ],
   "source": [
    "f.circlexy"
   ]
  },
  {
   "cell_type": "code",
   "execution_count": 29,
   "metadata": {},
   "outputs": [],
   "source": [
    "a=[1.285906e-07,7.773027e-08]\n",
    "b=[5.71503693e-08,2.36805570e-07]"
   ]
  },
  {
   "cell_type": "code",
   "execution_count": 33,
   "metadata": {},
   "outputs": [
    {
     "data": {
      "text/plain": [
       "1.743807834383113e-07"
      ]
     },
     "execution_count": 33,
     "metadata": {},
     "output_type": "execute_result"
    }
   ],
   "source": [
    "np.sqrt(np.sum([(j-b[i])**2 for i,j in enumerate(a)]))"
   ]
  },
  {
   "cell_type": "code",
   "execution_count": null,
   "metadata": {},
   "outputs": [],
   "source": []
  },
  {
   "cell_type": "code",
   "execution_count": 45,
   "metadata": {},
   "outputs": [
    {
     "data": {
      "image/png": "[encoded data removed]",
      "text/plain": [
       "<matplotlib.figure.Figure at 0x20198e0a4a8>"
      ]
     },
     "metadata": {},
     "output_type": "display_data"
    }
   ],
   "source": [
    "for i in f.circlexy:\n",
    "    df=f.DF.iloc[:,i]\n",
    "    plt.plot(df.iloc[:,0],df.iloc[:,1],'*',label=i[0],alpha=1)\n",
    "\n",
    "#plt.legend()\n",
    "plt.show()"
   ]
  },
  {
   "cell_type": "code",
   "execution_count": null,
   "metadata": {},
   "outputs": [],
   "source": []
  },
  {
   "cell_type": "code",
   "execution_count": null,
   "metadata": {},
   "outputs": [],
   "source": []
  }
 ],
 "metadata": {
  "kernelspec": {
   "display_name": "Python 3",
   "language": "python",
   "name": "python3"
  },
  "language_info": {
   "codemirror_mode": {
    "name": "ipython",
    "version": 3
   },
   "file_extension": ".py",
   "mimetype": "text/x-python",
   "name": "python",
   "nbconvert_exporter": "python",
   "pygments_lexer": "ipython3",
   "version": "3.6.4"
  }
 },
 "nbformat": 4,
 "nbformat_minor": 2
}
