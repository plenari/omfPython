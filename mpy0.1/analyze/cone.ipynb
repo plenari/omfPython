{
 "cells": [
  {
   "cell_type": "markdown",
   "metadata": {},
   "source": [
    "# 轴线沿着x的圆锥\n",
    "\n",
    "* 先计算最大或者最小位置，然后你和出来一条线\n",
    "* 计算距离这条线n纳米以内的\n",
    "* 然后展开数据\n",
    "* 数据的维度怎么计算。"
   ]
  },
  {
   "cell_type": "code",
   "execution_count": 1,
   "metadata": {},
   "outputs": [],
   "source": [
    "import sys\n",
    "if '..' not in sys.path:\n",
    "    sys.path.append('..')"
   ]
  },
  {
   "cell_type": "code",
   "execution_count": 2,
   "metadata": {},
   "outputs": [],
   "source": [
    "from analyze import curl\n",
    "import numpy as np"
   ]
  },
  {
   "cell_type": "code",
   "execution_count": 3,
   "metadata": {},
   "outputs": [],
   "source": []
  },
  {
   "cell_type": "code",
   "execution_count": 12,
   "metadata": {},
   "outputs": [
    {
     "data": {
      "text/plain": [
       "<analyze.curl.Curl at 0x155ca27e550>"
      ]
     },
     "execution_count": 12,
     "metadata": {},
     "output_type": "execute_result"
    }
   ],
   "source": [
    "f=r'C:\\Users\\omf\\Desktop\\mpy1.0\\test\\m000004.ovf'\n",
    "r=curl.Curl(f)\n",
    "r.loadData(f).reshape3D()"
   ]
  },
  {
   "cell_type": "code",
   "execution_count": 13,
   "metadata": {},
   "outputs": [],
   "source": [
    "import matplotlib.pyplot as plt\n",
    "import seaborn as sns"
   ]
  },
  {
   "cell_type": "code",
   "execution_count": 21,
   "metadata": {},
   "outputs": [],
   "source": [
    "def coneSlicing(data):\n",
    "    '''\n",
    "    all in one\n",
    "    对每一个x轴上的切片应用距离限制\n",
    "    最后得到一个大列表   \n",
    "    \n",
    "    data: r.data\n",
    "    '''\n",
    "    \n",
    "    assert len(data)==6,'xyz,mxmymz'\n",
    "    assert len(data[0].shape)==3,'三维数据'\n",
    "    clipData=[]\n",
    "    \n",
    "    #对x循环    \n",
    "    for i in range(data[0].shape[2]):\n",
    "        slic=[v[:,:,i] for v in data]\n",
    "        \n",
    "        M0=np.sqrt(slic[3]**2+slic[4]**2+slic[5]**2)>0\n",
    "        #至少得有五个数据把\n",
    "        if np.sum(M0,axis=None)>5:\n",
    "            slici=selectRclip(slic)\n",
    "            clipData.append(slici)\n",
    "    return pave(clipData)"
   ]
  },
  {
   "cell_type": "code",
   "execution_count": 20,
   "metadata": {},
   "outputs": [],
   "source": [
    "def pave(data):\n",
    "    '''\n",
    "    铺平数据成二维的。\n",
    "    以那条线为基准铺平数据将会导致很多不同的效果。\n",
    "    data:[x,y,z,mx,my,mz] ,二维的，不规则的二维数据\n",
    "    return :[x,y,z,mx,my,mz]，二维的\n",
    "    '''\n",
    "    assert len(data[0])==6,'每一个都是六个数据，且每个数据长度一样'\n",
    "    #新数组的大小    \n",
    "    len_index=np.max([len(i[0]) for i in data])\n",
    "    len_col=len(data)\n",
    "    \n",
    "    plane=[]\n",
    "\n",
    "    for xyz in range(6):\n",
    "        '''\n",
    "        对变量进行循环\n",
    "        '''\n",
    "        planei=np.zeros([len_index,len_col])\n",
    "        for i,v in enumerate(data):\n",
    "            '''\n",
    "            对每一个x轴数据循环\n",
    "            将数据的中心对准数组的中心\n",
    "            '''\n",
    "            youself=v[xyz].shape[0]#第几个切片的xyz变量，的长度\n",
    "            start=getPaveIndex(youself,lens=170)\n",
    "            planei[start:start+youself,i]=v[xyz]\n",
    "        plane.append(planei)\n",
    "    return plane"
   ]
  },
  {
   "cell_type": "code",
   "execution_count": null,
   "metadata": {},
   "outputs": [],
   "source": []
  },
  {
   "cell_type": "code",
   "execution_count": null,
   "metadata": {},
   "outputs": [],
   "source": []
  },
  {
   "cell_type": "code",
   "execution_count": 10,
   "metadata": {},
   "outputs": [],
   "source": [
    "def getPaveIndex(youself,lens=170):\n",
    "    '''\n",
    "    你的长度比如是50，那么放入170个格的数据中，需要放置的起始点在哪里呢？\n",
    "    '''\n",
    "    assert lens>=youself,'数据必须足够大'\n",
    "    return (lens-youself)//2"
   ]
  },
  {
   "cell_type": "code",
   "execution_count": 9,
   "metadata": {},
   "outputs": [],
   "source": [
    "def selectRclip(data,rclip=[0,2e-9]):\n",
    "    '''    \n",
    "    对平面内的数据进行距离限制，且按照顺时针排序\n",
    "    \n",
    "    data：[x,y,z,mx,my,mz]，xyz为二维数据，data应为对X切片的值。\n",
    "    rclip:[0,2e-9]    \n",
    "    return :排序后的数据\n",
    "    '''\n",
    "    \n",
    "    assert len(rclip)==2,'长度为2的列表'\n",
    "    assert len(data[0].shape)==2,'维度为2的数据'\n",
    "    assert len(set(data[0].flatten()))==1,'x方向应该是单一的'   \n",
    "    \n",
    "    datai=[]\n",
    "    M0=np.sqrt(data[3]**2+data[4]**2+data[5]**2)>0\n",
    "    for i,v in enumerate(data):\n",
    "        datai.append(v[M0])\n",
    "    data=datai\n",
    "    # 圆环中心\n",
    "    centery,centerz=data[1].mean(),data[2].mean()\n",
    "    #距离圆心的距离\n",
    "    ri=np.sqrt((data[1]-centery)**2+(data[2]-centerz)**2)\n",
    "    rMax=ri.max()\n",
    "    #\n",
    "    selectri=(ri>(rMax-np.max(rclip))) & (ri<(rMax-np.min(rclip)))\n",
    "    \n",
    "    for i,v in enumerate(data):\n",
    "        data[i]=v[selectri]\n",
    "    #排序\n",
    "    index=sortByTheta(data[1:3],[centery,centerz])\n",
    "    \n",
    "    for i,v in enumerate(data):\n",
    "        data[i]=v[index]\n",
    "    return data\n",
    "    "
   ]
  },
  {
   "cell_type": "code",
   "execution_count": 17,
   "metadata": {},
   "outputs": [],
   "source": [
    "def sortByTheta(data,center):\n",
    "    '''\n",
    "    \n",
    "    排序，与Y轴正向夹角的顺时针\n",
    "    data:y,z 返回值\n",
    "    center:[centerx=y,centerz]  \n",
    "    return [sorted(y),sorted(z)]\n",
    "    '''\n",
    "    \n",
    "    #减去平均值可以方便的得到以圆柱为中心的\n",
    "    cy=data[0]-center[0]\n",
    "    cz=data[1]-center[1]\n",
    "    #用arccos函数计算每一点与y轴正向的夹角\n",
    "    thetaY=np.arccos(cy/np.sqrt(cy**2+cz**2))\n",
    "    thetaY[cz<0]=2*np.pi-thetaY[cz<0]\n",
    "    #从小到大的排列方式的位置索引。这个索引的作用对象是已经用距离筛选过的数据\n",
    "    index_thetaY=np.argsort(thetaY)\n",
    "    #return [data[0][index_thetaY],data[1][index_thetaY]]\n",
    "    return index_thetaY\n"
   ]
  },
  {
   "cell_type": "code",
   "execution_count": null,
   "metadata": {},
   "outputs": [],
   "source": []
  },
  {
   "cell_type": "code",
   "execution_count": null,
   "metadata": {},
   "outputs": [],
   "source": []
  },
  {
   "cell_type": "code",
   "execution_count": null,
   "metadata": {},
   "outputs": [],
   "source": []
  },
  {
   "cell_type": "code",
   "execution_count": null,
   "metadata": {},
   "outputs": [],
   "source": []
  },
  {
   "cell_type": "code",
   "execution_count": null,
   "metadata": {},
   "outputs": [],
   "source": []
  },
  {
   "cell_type": "code",
   "execution_count": null,
   "metadata": {},
   "outputs": [],
   "source": []
  },
  {
   "cell_type": "code",
   "execution_count": null,
   "metadata": {},
   "outputs": [],
   "source": []
  },
  {
   "cell_type": "code",
   "execution_count": null,
   "metadata": {},
   "outputs": [],
   "source": []
  },
  {
   "cell_type": "code",
   "execution_count": null,
   "metadata": {},
   "outputs": [],
   "source": []
  },
  {
   "cell_type": "code",
   "execution_count": null,
   "metadata": {},
   "outputs": [],
   "source": []
  },
  {
   "cell_type": "code",
   "execution_count": null,
   "metadata": {},
   "outputs": [],
   "source": []
  },
  {
   "cell_type": "code",
   "execution_count": null,
   "metadata": {},
   "outputs": [],
   "source": []
  },
  {
   "cell_type": "code",
   "execution_count": null,
   "metadata": {},
   "outputs": [],
   "source": []
  },
  {
   "cell_type": "code",
   "execution_count": null,
   "metadata": {},
   "outputs": [],
   "source": []
  },
  {
   "cell_type": "code",
   "execution_count": null,
   "metadata": {},
   "outputs": [],
   "source": []
  },
  {
   "cell_type": "code",
   "execution_count": null,
   "metadata": {},
   "outputs": [],
   "source": []
  },
  {
   "cell_type": "code",
   "execution_count": null,
   "metadata": {},
   "outputs": [],
   "source": []
  },
  {
   "cell_type": "code",
   "execution_count": null,
   "metadata": {},
   "outputs": [],
   "source": []
  },
  {
   "cell_type": "code",
   "execution_count": null,
   "metadata": {},
   "outputs": [],
   "source": []
  },
  {
   "cell_type": "code",
   "execution_count": null,
   "metadata": {},
   "outputs": [],
   "source": []
  },
  {
   "cell_type": "code",
   "execution_count": null,
   "metadata": {},
   "outputs": [],
   "source": []
  },
  {
   "cell_type": "code",
   "execution_count": null,
   "metadata": {},
   "outputs": [],
   "source": []
  },
  {
   "cell_type": "code",
   "execution_count": null,
   "metadata": {},
   "outputs": [],
   "source": []
  },
  {
   "cell_type": "code",
   "execution_count": null,
   "metadata": {},
   "outputs": [],
   "source": []
  },
  {
   "cell_type": "code",
   "execution_count": null,
   "metadata": {},
   "outputs": [],
   "source": []
  },
  {
   "cell_type": "code",
   "execution_count": null,
   "metadata": {},
   "outputs": [],
   "source": []
  },
  {
   "cell_type": "code",
   "execution_count": null,
   "metadata": {},
   "outputs": [],
   "source": []
  },
  {
   "cell_type": "code",
   "execution_count": null,
   "metadata": {},
   "outputs": [],
   "source": []
  },
  {
   "cell_type": "code",
   "execution_count": null,
   "metadata": {},
   "outputs": [],
   "source": []
  },
  {
   "cell_type": "code",
   "execution_count": null,
   "metadata": {},
   "outputs": [],
   "source": []
  },
  {
   "cell_type": "code",
   "execution_count": null,
   "metadata": {},
   "outputs": [],
   "source": []
  },
  {
   "cell_type": "code",
   "execution_count": null,
   "metadata": {},
   "outputs": [],
   "source": []
  },
  {
   "cell_type": "code",
   "execution_count": null,
   "metadata": {},
   "outputs": [],
   "source": []
  },
  {
   "cell_type": "code",
   "execution_count": null,
   "metadata": {},
   "outputs": [],
   "source": []
  },
  {
   "cell_type": "code",
   "execution_count": null,
   "metadata": {},
   "outputs": [],
   "source": []
  },
  {
   "cell_type": "code",
   "execution_count": null,
   "metadata": {},
   "outputs": [],
   "source": []
  },
  {
   "cell_type": "code",
   "execution_count": null,
   "metadata": {},
   "outputs": [],
   "source": []
  }
 ],
 "metadata": {
  "kernelspec": {
   "display_name": "Python 3",
   "language": "python",
   "name": "python3"
  },
  "language_info": {
   "codemirror_mode": {
    "name": "ipython",
    "version": 3
   },
   "file_extension": ".py",
   "mimetype": "text/x-python",
   "name": "python",
   "nbconvert_exporter": "python",
   "pygments_lexer": "ipython3",
   "version": "3.6.4"
  }
 },
 "nbformat": 4,
 "nbformat_minor": 2
}
